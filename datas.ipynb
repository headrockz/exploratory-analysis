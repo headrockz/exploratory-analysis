{
 "cells": [
  {
   "cell_type": "code",
   "execution_count": 1,
   "source": [
    "import pandas as pd"
   ],
   "outputs": [],
   "metadata": {}
  },
  {
   "cell_type": "code",
   "execution_count": 2,
   "source": [
    "aracaju = pd.read_excel('datasets/Aracaju.xlsx')\n",
    "fortaleza = pd.read_excel('datasets/Fortaleza.xlsx')\n",
    "natal = pd.read_excel('datasets/Natal.xlsx')\n",
    "recife = pd.read_excel('datasets/Recife.xlsx')\n",
    "salvador = pd.read_excel('datasets/Salvador.xlsx')"
   ],
   "outputs": [],
   "metadata": {}
  },
  {
   "cell_type": "code",
   "execution_count": 3,
   "source": [
    "df = pd.concat([aracaju, fortaleza, natal, recife, salvador])"
   ],
   "outputs": [],
   "metadata": {}
  },
  {
   "cell_type": "code",
   "execution_count": null,
   "source": [],
   "outputs": [],
   "metadata": {}
  }
 ],
 "metadata": {
  "orig_nbformat": 4,
  "language_info": {
   "name": "python",
   "version": "3.9.5",
   "mimetype": "text/x-python",
   "codemirror_mode": {
    "name": "ipython",
    "version": 3
   },
   "pygments_lexer": "ipython3",
   "nbconvert_exporter": "python",
   "file_extension": ".py"
  },
  "kernelspec": {
   "name": "python3",
   "display_name": "Python 3.9.5 64-bit ('venv': venv)"
  },
  "interpreter": {
   "hash": "195edbca4e66bb450e4834951a2da6e73e1ae964514fffb502643e0de2303b0a"
  }
 },
 "nbformat": 4,
 "nbformat_minor": 2
}